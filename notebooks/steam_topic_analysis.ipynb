{
 "cells": [
  {
   "cell_type": "markdown",
   "id": "facea28c-d4ea-498f-8852-7f4c68997c2e",
   "metadata": {},
   "source": [
    "# Topic analysis of Steam reviews"
   ]
  },
  {
   "cell_type": "markdown",
   "id": "641ad4b4-b7fe-4412-a724-8544cb9e535d",
   "metadata": {},
   "source": [
    "# Scope"
   ]
  },
  {
   "cell_type": "markdown",
   "id": "715b4853-419a-4890-969a-61dd0e667661",
   "metadata": {},
   "source": [
    "# Data exploration"
   ]
  },
  {
   "cell_type": "markdown",
   "id": "cbc7b543-795b-434e-a5bc-136cbc03f290",
   "metadata": {},
   "source": [
    "## Dependencies"
   ]
  },
  {
   "cell_type": "code",
   "execution_count": 1,
   "id": "74cd9cc7-1cad-47be-97c9-bd394a9422e1",
   "metadata": {},
   "outputs": [],
   "source": [
    "import sys\n",
    "CONFIG_DIRECTORY = 'C:\\\\Users\\\\billy\\\\OneDrive\\\\Documents\\\\Python Scripts\\\\1. Portfolio\\\\steam-topic-analysis\\\\steam-topic-analyis'\n",
    "if CONFIG_DIRECTORY not in sys.path:\n",
    "    sys.path.insert(0, CONFIG_DIRECTORY)\n",
    "\n",
    "import config\n",
    "import datetime\n",
    "import numpy as np\n",
    "import pandas as pd\n",
    "from IPython.display import display\n",
    "from matplotlib import pyplot as plt\n",
    "plt.style.use('seaborn-v0_8-muted')"
   ]
  },
  {
   "cell_type": "markdown",
   "id": "7f88dde3-1813-40be-97c0-ca8502ad4850",
   "metadata": {},
   "source": [
    "## Import data\n",
    "The dataset comprises more than 6.4 million publicly accessible reviews written in English. These reviews are sourced from the Steam Reviews section of the Steam store, which is operated by Valve. Each review is characterized by its review text, the corresponding game's ID, the sentiment of the review (whether it is positive or negative), and the count of users who found the review helpful."
   ]
  },
  {
   "cell_type": "code",
   "execution_count": 2,
   "id": "776f8a2d-0af5-4ddd-bf96-c9242d20449a",
   "metadata": {},
   "outputs": [
    {
     "name": "stdout",
     "output_type": "stream",
     "text": [
      "Number of records: 6417106\n"
     ]
    },
    {
     "data": {
      "text/html": [
       "<div>\n",
       "<style scoped>\n",
       "    .dataframe tbody tr th:only-of-type {\n",
       "        vertical-align: middle;\n",
       "    }\n",
       "\n",
       "    .dataframe tbody tr th {\n",
       "        vertical-align: top;\n",
       "    }\n",
       "\n",
       "    .dataframe thead th {\n",
       "        text-align: right;\n",
       "    }\n",
       "</style>\n",
       "<table border=\"1\" class=\"dataframe\">\n",
       "  <thead>\n",
       "    <tr style=\"text-align: right;\">\n",
       "      <th></th>\n",
       "      <th>app_id</th>\n",
       "      <th>app_name</th>\n",
       "      <th>review_text</th>\n",
       "      <th>review_score</th>\n",
       "      <th>review_votes</th>\n",
       "    </tr>\n",
       "  </thead>\n",
       "  <tbody>\n",
       "    <tr>\n",
       "      <th>0</th>\n",
       "      <td>10</td>\n",
       "      <td>Counter-Strike</td>\n",
       "      <td>Ruined my life.</td>\n",
       "      <td>1</td>\n",
       "      <td>0</td>\n",
       "    </tr>\n",
       "    <tr>\n",
       "      <th>1</th>\n",
       "      <td>10</td>\n",
       "      <td>Counter-Strike</td>\n",
       "      <td>This will be more of a ''my experience with th...</td>\n",
       "      <td>1</td>\n",
       "      <td>1</td>\n",
       "    </tr>\n",
       "    <tr>\n",
       "      <th>2</th>\n",
       "      <td>10</td>\n",
       "      <td>Counter-Strike</td>\n",
       "      <td>This game saved my virginity.</td>\n",
       "      <td>1</td>\n",
       "      <td>0</td>\n",
       "    </tr>\n",
       "  </tbody>\n",
       "</table>\n",
       "</div>"
      ],
      "text/plain": [
       "   app_id        app_name                                        review_text  \\\n",
       "0      10  Counter-Strike                                    Ruined my life.   \n",
       "1      10  Counter-Strike  This will be more of a ''my experience with th...   \n",
       "2      10  Counter-Strike                      This game saved my virginity.   \n",
       "\n",
       "   review_score  review_votes  \n",
       "0             1             0  \n",
       "1             1             1  \n",
       "2             1             0  "
      ]
     },
     "execution_count": 2,
     "metadata": {},
     "output_type": "execute_result"
    }
   ],
   "source": [
    "raw_reviews = pd.read_csv(config.file_directory('raw') + 'dataset.csv')\n",
    "print(f\"Number of records: {raw_reviews.shape[0]}\")\n",
    "raw_reviews.head(3)"
   ]
  },
  {
   "cell_type": "markdown",
   "id": "bae70775-7079-4ebc-951a-d0b0240fe0e0",
   "metadata": {},
   "source": [
    "## Data types"
   ]
  },
  {
   "cell_type": "code",
   "execution_count": 3,
   "id": "f938b3f8-bbf3-4606-a7d8-065071f31a18",
   "metadata": {},
   "outputs": [
    {
     "data": {
      "text/plain": [
       "app_id           int64\n",
       "app_name        object\n",
       "review_text     object\n",
       "review_score     int64\n",
       "review_votes     int64\n",
       "dtype: object"
      ]
     },
     "execution_count": 3,
     "metadata": {},
     "output_type": "execute_result"
    }
   ],
   "source": [
    "raw_reviews.dtypes"
   ]
  },
  {
   "cell_type": "markdown",
   "id": "579cfcea-a863-44fb-b972-7d12fea9607e",
   "metadata": {},
   "source": [
    "## Missing values"
   ]
  },
  {
   "cell_type": "code",
   "execution_count": 4,
   "id": "a7cdcf67-6cbc-4d77-8495-0d80f7cddebf",
   "metadata": {},
   "outputs": [
    {
     "data": {
      "text/plain": [
       "app_id               0\n",
       "app_name        183234\n",
       "review_text       7305\n",
       "review_score         0\n",
       "review_votes         0\n",
       "dtype: int64"
      ]
     },
     "execution_count": 4,
     "metadata": {},
     "output_type": "execute_result"
    }
   ],
   "source": [
    "raw_reviews.isnull().sum()"
   ]
  },
  {
   "cell_type": "markdown",
   "id": "30b83a99-4fe3-426f-893b-093031e7f0e8",
   "metadata": {},
   "source": [
    "## Summary stats & distributions"
   ]
  },
  {
   "cell_type": "code",
   "execution_count": 10,
   "id": "6169cb90-bd8a-4d13-af61-8b5c919eed36",
   "metadata": {},
   "outputs": [
    {
     "data": {
      "text/html": [
       "<div>\n",
       "<style scoped>\n",
       "    .dataframe tbody tr th:only-of-type {\n",
       "        vertical-align: middle;\n",
       "    }\n",
       "\n",
       "    .dataframe tbody tr th {\n",
       "        vertical-align: top;\n",
       "    }\n",
       "\n",
       "    .dataframe thead th {\n",
       "        text-align: right;\n",
       "    }\n",
       "</style>\n",
       "<table border=\"1\" class=\"dataframe\">\n",
       "  <thead>\n",
       "    <tr style=\"text-align: right;\">\n",
       "      <th></th>\n",
       "      <th>count</th>\n",
       "      <th>perc</th>\n",
       "    </tr>\n",
       "    <tr>\n",
       "      <th>review_score</th>\n",
       "      <th></th>\n",
       "      <th></th>\n",
       "    </tr>\n",
       "  </thead>\n",
       "  <tbody>\n",
       "    <tr>\n",
       "      <th>1</th>\n",
       "      <td>5126132</td>\n",
       "      <td>82.3</td>\n",
       "    </tr>\n",
       "    <tr>\n",
       "      <th>-1</th>\n",
       "      <td>1100596</td>\n",
       "      <td>17.7</td>\n",
       "    </tr>\n",
       "  </tbody>\n",
       "</table>\n",
       "</div>"
      ],
      "text/plain": [
       "                count  perc\n",
       "review_score               \n",
       " 1            5126132  82.3\n",
       "-1            1100596  17.7"
      ]
     },
     "execution_count": 10,
     "metadata": {},
     "output_type": "execute_result"
    }
   ],
   "source": [
    "from custom_funcs import perc_func\n",
    "score_breakdown = perc_func(raw_reviews, 'review_score')\n",
    "score_breakdown"
   ]
  },
  {
   "cell_type": "code",
   "execution_count": 11,
   "id": "00ef36a6-9cba-4597-813b-2e679efa1755",
   "metadata": {},
   "outputs": [
    {
     "data": {
      "text/html": [
       "<div>\n",
       "<style scoped>\n",
       "    .dataframe tbody tr th:only-of-type {\n",
       "        vertical-align: middle;\n",
       "    }\n",
       "\n",
       "    .dataframe tbody tr th {\n",
       "        vertical-align: top;\n",
       "    }\n",
       "\n",
       "    .dataframe thead th {\n",
       "        text-align: right;\n",
       "    }\n",
       "</style>\n",
       "<table border=\"1\" class=\"dataframe\">\n",
       "  <thead>\n",
       "    <tr style=\"text-align: right;\">\n",
       "      <th></th>\n",
       "      <th>count</th>\n",
       "      <th>perc</th>\n",
       "    </tr>\n",
       "    <tr>\n",
       "      <th>review_votes</th>\n",
       "      <th></th>\n",
       "      <th></th>\n",
       "    </tr>\n",
       "  </thead>\n",
       "  <tbody>\n",
       "    <tr>\n",
       "      <th>0</th>\n",
       "      <td>5313079</td>\n",
       "      <td>85.3</td>\n",
       "    </tr>\n",
       "    <tr>\n",
       "      <th>1</th>\n",
       "      <td>913649</td>\n",
       "      <td>14.7</td>\n",
       "    </tr>\n",
       "  </tbody>\n",
       "</table>\n",
       "</div>"
      ],
      "text/plain": [
       "                count  perc\n",
       "review_votes               \n",
       "0             5313079  85.3\n",
       "1              913649  14.7"
      ]
     },
     "execution_count": 11,
     "metadata": {},
     "output_type": "execute_result"
    }
   ],
   "source": [
    "votes_breakdown = perc_func(raw_reviews, 'review_votes')\n",
    "votes_breakdown"
   ]
  },
  {
   "cell_type": "markdown",
   "id": "e324ccd2-b449-4d0a-b43e-83b2d671f878",
   "metadata": {},
   "source": [
    "# Data cleansing"
   ]
  },
  {
   "cell_type": "code",
   "execution_count": 6,
   "id": "fa01b33d-79fa-4c42-b802-dc7e5c8b786a",
   "metadata": {},
   "outputs": [
    {
     "name": "stdout",
     "output_type": "stream",
     "text": [
      "Number of records: 6226728\n"
     ]
    },
    {
     "data": {
      "text/plain": [
       "app_id          0\n",
       "app_name        0\n",
       "review_text     0\n",
       "review_score    0\n",
       "review_votes    0\n",
       "dtype: int64"
      ]
     },
     "execution_count": 6,
     "metadata": {},
     "output_type": "execute_result"
    }
   ],
   "source": [
    "raw_reviews = raw_reviews.loc[raw_reviews['app_name'].isnull()==False]\n",
    "raw_reviews = raw_reviews.loc[raw_reviews['review_text'].isnull()==False]\n",
    "print(f\"Number of records: {raw_reviews.shape[0]}\")\n",
    "raw_reviews.isnull().sum()"
   ]
  },
  {
   "cell_type": "markdown",
   "id": "d7bfdde0-360c-407b-a361-03b92d5a067b",
   "metadata": {},
   "source": [
    "# Feature engineering"
   ]
  },
  {
   "cell_type": "markdown",
   "id": "0b49ec02-74ee-4013-815c-e1ccb12a4982",
   "metadata": {},
   "source": [
    "# Model selection and training"
   ]
  },
  {
   "cell_type": "markdown",
   "id": "a9dd25ce-17af-49ff-a911-d1405e57a5dc",
   "metadata": {},
   "source": [
    "# Model evaluation"
   ]
  }
 ],
 "metadata": {
  "kernelspec": {
   "display_name": "ab_testing",
   "language": "python",
   "name": "ab_testing"
  },
  "language_info": {
   "codemirror_mode": {
    "name": "ipython",
    "version": 3
   },
   "file_extension": ".py",
   "mimetype": "text/x-python",
   "name": "python",
   "nbconvert_exporter": "python",
   "pygments_lexer": "ipython3",
   "version": "3.11.5"
  }
 },
 "nbformat": 4,
 "nbformat_minor": 5
}
